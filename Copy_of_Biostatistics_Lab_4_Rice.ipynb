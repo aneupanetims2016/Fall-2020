{
  "nbformat": 4,
  "nbformat_minor": 0,
  "metadata": {
    "colab": {
      "name": "Copy of Biostatistics Lab 4 Rice.ipynb",
      "provenance": [],
      "collapsed_sections": [],
      "include_colab_link": true
    },
    "kernelspec": {
      "name": "python3",
      "display_name": "Python 3"
    },
    "accelerator": "GPU"
  },
  "cells": [
    {
      "cell_type": "markdown",
      "metadata": {
        "id": "view-in-github",
        "colab_type": "text"
      },
      "source": [
        "<a href=\"https://colab.research.google.com/github/aneupanetims2016/Fall-2020/blob/master/Copy_of_Biostatistics_Lab_4_Rice.ipynb\" target=\"_parent\"><img src=\"https://colab.research.google.com/assets/colab-badge.svg\" alt=\"Open In Colab\"/></a>"
      ]
    },
    {
      "cell_type": "markdown",
      "metadata": {
        "id": "x6JoE4rdE9ae"
      },
      "source": [
        "# Rice Seed Classification"
      ]
    },
    {
      "cell_type": "markdown",
      "metadata": {
        "id": "kNqEeYHZIj7W"
      },
      "source": [
        "How will you classify the bellow two images?\n",
        "\n",
        "![1rice](https://github.com/totti0223/deep_learning_for_biologists_with_keras/raw/master/assets/11.jpg) Proper Shaped Rice Seed\n",
        "\n",
        "![2rice](https://github.com/totti0223/deep_learning_for_biologists_with_keras/raw/master/assets/141.jpg) Broken Rice Seed\n",
        "\n"
      ]
    },
    {
      "cell_type": "code",
      "metadata": {
        "id": "vv_CFDFPE2BJ"
      },
      "source": [
        "import numpy as np    #Import all tools \n",
        "import math, os, sys\n",
        "import itertools\n",
        "\n",
        "import matplotlib.pyplot as plt\n",
        "plt.style.use('default')\n",
        "from scipy import ndimage\n",
        "\n",
        "from skimage import measure, morphology\n",
        "from skimage.io import imsave, imread\n",
        "from skimage.color import rgb2gray\n",
        "from skimage.filters import threshold_otsu\n",
        "from skimage.transform import resize\n",
        "\n",
        "from sklearn import svm, datasets\n",
        "from sklearn.metrics import confusion_matrix\n",
        "import pandas as pd"
      ],
      "execution_count": 1,
      "outputs": []
    },
    {
      "cell_type": "code",
      "metadata": {
        "id": "pQptkk_24tvw"
      },
      "source": [
        "def plot_confusion_matrix(cm, classes,\n",
        "                          normalize=False,\n",
        "                          title='Confusion matrix',\n",
        "                          cmap=plt.cm.Blues):\n",
        "    \"\"\"\n",
        "    This function prints and plots the confusion matrix.\n",
        "    Normalization can be applied by setting `normalize=True`.\n",
        "    #code from https://scikit-learn.org/stable/auto_examples/model_selection/plot_confusion_matrix.html#sphx-glr-auto-examples-model-selection-plot-confusion-matrix-py\n",
        "    \"\"\"\n",
        "    if normalize:\n",
        "        cm = cm.astype('float') / cm.sum(axis=1)[:, np.newaxis]\n",
        "        print(\"Normalized confusion matrix\")\n",
        "    else:\n",
        "        print('Confusion matrix, without normalization')\n",
        "\n",
        "    #print(cm)\n",
        "\n",
        "    plt.imshow(cm, interpolation='nearest', cmap=cmap)\n",
        "    plt.title(title)\n",
        "    #plt.colorbar()\n",
        "    tick_marks = np.arange(len(classes))\n",
        "    plt.xticks(tick_marks, classes, rotation=90)\n",
        "    plt.yticks(tick_marks, classes)\n",
        "\n",
        "    fmt = '.2f' if normalize else 'd'\n",
        "    thresh = cm.max() / 2.\n",
        "    for i, j in itertools.product(range(cm.shape[0]), range(cm.shape[1])):\n",
        "        plt.text(j, i, format(cm[i, j], fmt),\n",
        "                 horizontalalignment=\"center\",\n",
        "                 color=\"white\" if cm[i, j] > thresh else \"black\")\n",
        "\n",
        "    plt.ylabel('True label')\n",
        "    plt.xlabel('Predicted label')\n",
        "    plt.tight_layout()"
      ],
      "execution_count": 2,
      "outputs": []
    },
    {
      "cell_type": "code",
      "metadata": {
        "id": "ErxWOZ1KMKZ_"
      },
      "source": [
        "!#we will use the rice seed image datset\n",
        "!apt-get install subversion > /dev/null\n",
        "!svn export https://github.com/totti0223/deep_learning_for_biologists_with_keras/trunk/notebooks/data/image image > /dev/null"
      ],
      "execution_count": 3,
      "outputs": []
    },
    {
      "cell_type": "code",
      "metadata": {
        "id": "W_oxMl_MLoQw",
        "outputId": "1de76c28-c812-4c4d-a3a8-d6e1e49577c9",
        "colab": {
          "base_uri": "https://localhost:8080/",
          "height": 347
        }
      },
      "source": [
        "#this command below see inspects part of the files which have been downloaded from the cell above\n",
        "!ls image\n",
        "!ls image/train\n",
        "!ls image/train/proper"
      ],
      "execution_count": 4,
      "outputs": [
        {
          "output_type": "stream",
          "text": [
            "test  test.txt\ttrain  train.txt\n",
            "broken\tproper\n",
            "100.jpg  117.jpg  132.jpg  15.jpg   22.jpg  39.jpg  56.jpg  73.jpg  90.jpg\n",
            "101.jpg  118.jpg  133.jpg  16.jpg   23.jpg  40.jpg  57.jpg  74.jpg  91.jpg\n",
            "102.jpg  119.jpg  134.jpg  17.jpg   24.jpg  41.jpg  58.jpg  75.jpg  92.jpg\n",
            "103.jpg  11.jpg   135.jpg  181.jpg  25.jpg  42.jpg  59.jpg  76.jpg  93.jpg\n",
            "104.jpg  120.jpg  136.jpg  183.jpg  26.jpg  43.jpg  60.jpg  77.jpg  94.jpg\n",
            "105.jpg  121.jpg  137.jpg  187.jpg  27.jpg  44.jpg  61.jpg  78.jpg  95.jpg\n",
            "106.jpg  122.jpg  138.jpg  188.jpg  28.jpg  45.jpg  62.jpg  79.jpg  96.jpg\n",
            "107.jpg  123.jpg  139.jpg  18.jpg   29.jpg  46.jpg  63.jpg  80.jpg  97.jpg\n",
            "108.jpg  124.jpg  13.jpg   190.jpg  30.jpg  47.jpg  64.jpg  81.jpg  98.jpg\n",
            "109.jpg  125.jpg  140.jpg  192.jpg  31.jpg  48.jpg  65.jpg  82.jpg  99.jpg\n",
            "110.jpg  126.jpg  143.jpg  193.jpg  32.jpg  49.jpg  66.jpg  83.jpg\n",
            "111.jpg  127.jpg  148.jpg  197.jpg  33.jpg  50.jpg  67.jpg  84.jpg\n",
            "112.jpg  128.jpg  149.jpg  198.jpg  34.jpg  51.jpg  68.jpg  85.jpg\n",
            "113.jpg  129.jpg  14.jpg   19.jpg   35.jpg  52.jpg  69.jpg  86.jpg\n",
            "114.jpg  12.jpg   151.jpg  200.jpg  36.jpg  53.jpg  70.jpg  87.jpg\n",
            "115.jpg  130.jpg  153.jpg  20.jpg   37.jpg  54.jpg  71.jpg  88.jpg\n",
            "116.jpg  131.jpg  154.jpg  21.jpg   38.jpg  55.jpg  72.jpg  89.jpg\n"
          ],
          "name": "stdout"
        }
      ]
    },
    {
      "cell_type": "code",
      "metadata": {
        "id": "9AXVWZgTPGYx",
        "outputId": "fc0f1dc0-2d9b-4c91-bd5a-c471a43eab9e",
        "colab": {
          "base_uri": "https://localhost:8080/",
          "height": 229
        }
      },
      "source": [
        "#let's visualize a single file\n",
        "image = imread(\"image/train/proper/100.jpg\")\n",
        "plt.figure(figsize=(3,3))\n",
        "plt.imshow(image)"
      ],
      "execution_count": 6,
      "outputs": [
        {
          "output_type": "execute_result",
          "data": {
            "text/plain": [
              "<matplotlib.image.AxesImage at 0x7fac204a99e8>"
            ]
          },
          "metadata": {
            "tags": []
          },
          "execution_count": 6
        },
        {
          "output_type": "display_data",
          "data": {
            "image/png": "[encoded data removed]",
            "text/plain": [
              "<Figure size 216x216 with 1 Axes>"
            ]
          },
          "metadata": {
            "tags": [],
            "needs_background": "light"
          }
        }
      ]
    },
    {
      "cell_type": "code",
      "metadata": {
        "id": "qtSKtnq5uOET",
        "outputId": "394d9e92-975f-4ad1-faf6-a3859c64f93e",
        "colab": {
          "base_uri": "https://localhost:8080/",
          "height": 867
        }
      },
      "source": [
        "image"
      ],
      "execution_count": 7,
      "outputs": [
        {
          "output_type": "execute_result",
          "data": {
            "text/plain": [
              "array([[[0, 1, 4],\n",
              "        [2, 6, 7],\n",
              "        [0, 3, 2],\n",
              "        ...,\n",
              "        [0, 1, 0],\n",
              "        [0, 1, 0],\n",
              "        [0, 1, 0]],\n",
              "\n",
              "       [[1, 5, 8],\n",
              "        [2, 6, 7],\n",
              "        [0, 1, 0],\n",
              "        ...,\n",
              "        [0, 1, 0],\n",
              "        [0, 1, 0],\n",
              "        [0, 1, 0]],\n",
              "\n",
              "       [[0, 2, 5],\n",
              "        [0, 3, 4],\n",
              "        [0, 1, 0],\n",
              "        ...,\n",
              "        [0, 0, 0],\n",
              "        [0, 1, 0],\n",
              "        [0, 1, 0]],\n",
              "\n",
              "       ...,\n",
              "\n",
              "       [[0, 0, 2],\n",
              "        [0, 0, 2],\n",
              "        [0, 0, 2],\n",
              "        ...,\n",
              "        [4, 2, 3],\n",
              "        [4, 3, 1],\n",
              "        [1, 0, 0]],\n",
              "\n",
              "       [[0, 0, 2],\n",
              "        [0, 0, 2],\n",
              "        [0, 0, 2],\n",
              "        ...,\n",
              "        [5, 3, 4],\n",
              "        [1, 0, 0],\n",
              "        [1, 0, 0]],\n",
              "\n",
              "       [[0, 0, 2],\n",
              "        [0, 0, 2],\n",
              "        [0, 0, 2],\n",
              "        ...,\n",
              "        [1, 0, 0],\n",
              "        [1, 0, 0],\n",
              "        [4, 3, 1]]], dtype=uint8)"
            ]
          },
          "metadata": {
            "tags": []
          },
          "execution_count": 7
        }
      ]
    },
    {
      "cell_type": "code",
      "metadata": {
        "id": "iHNV81ptRQD1",
        "outputId": "5b92ab71-cc77-4b32-de35-803cc75ca8e0",
        "colab": {
          "base_uri": "https://localhost:8080/",
          "height": 52
        }
      },
      "source": [
        "#load training dataset\n",
        "X_train = []\n",
        "y_train = []\n",
        "\n",
        "for root, dirs, files in os.walk(\"image/train\"):\n",
        "    files = [x for x in files if x.endswith(\".jpg\")]\n",
        "    for file in files:\n",
        "        image_path = os.path.join(root, file)\n",
        "        \n",
        "        image = imread(image_path)/255.\n",
        "        image = resize(image,(28,28))\n",
        "        X_train.append(image)        \n",
        "        category = os.path.split(root)[-1]\n",
        "        if category == \"proper\":\n",
        "            y_train.append(0)\n",
        "        else:\n",
        "            y_train.append(1)\n",
        "X_train = np.array(X_train)\n",
        "y_train = np.array(y_train)\n",
        "\n",
        "\n",
        "\n",
        "#load test dataset\n",
        "X_test = []\n",
        "y_test = []\n",
        "\n",
        "for root, dirs, files in os.walk(\"image/test\"):\n",
        "    files = [x for x in files if x.endswith(\".jpg\")]\n",
        "    for file in files:\n",
        "        image_path = os.path.join(root, file)\n",
        "        \n",
        "        image = imread(image_path)/255.\n",
        "        image = resize(image,(28,28))\n",
        "        X_test.append(image)        \n",
        "        category = os.path.split(root)[-1]\n",
        "        if category == \"proper\":\n",
        "            y_test.append(0)\n",
        "        else:\n",
        "            y_test.append(1)\n",
        "X_test = np.array(X_test)\n",
        "y_test = np.array(y_test)\n",
        "\n",
        "print(\"train dataset shape is:\", X_train.shape,y_train.shape)\n",
        "print(\"test dataset shape is:\", X_test.shape,y_test.shape)"
      ],
      "execution_count": 8,
      "outputs": [
        {
          "output_type": "stream",
          "text": [
            "train dataset shape is: (377, 28, 28, 3) (377,)\n",
            "test dataset shape is: (20, 28, 28, 3) (20,)\n"
          ],
          "name": "stdout"
        }
      ]
    },
    {
      "cell_type": "code",
      "metadata": {
        "id": "SgvMYGL5uKxr",
        "outputId": "45b59145-eab0-4224-dca0-61e3103a0ab6",
        "colab": {
          "base_uri": "https://localhost:8080/",
          "height": 1000
        }
      },
      "source": [
        "X_train"
      ],
      "execution_count": 9,
      "outputs": [
        {
          "output_type": "execute_result",
          "data": {
            "text/plain": [
              "array([[[[3.40136054e-03, 2.09083633e-02, 3.26330532e-02],\n",
              "         [2.80112045e-04, 5.04201681e-03, 1.46858743e-02],\n",
              "         [1.80072029e-04, 5.94237695e-03, 7.06282513e-03],\n",
              "         ...,\n",
              "         [0.00000000e+00, 0.00000000e+00, 0.00000000e+00],\n",
              "         [0.00000000e+00, 0.00000000e+00, 0.00000000e+00],\n",
              "         [0.00000000e+00, 0.00000000e+00, 0.00000000e+00]],\n",
              "\n",
              "        [[2.80112045e-04, 5.04201681e-03, 1.46858743e-02],\n",
              "         [3.74149660e-03, 1.88875550e-02, 2.24489796e-02],\n",
              "         [1.98079232e-03, 1.18447379e-02, 1.18847539e-02],\n",
              "         ...,\n",
              "         [0.00000000e+00, 0.00000000e+00, 0.00000000e+00],\n",
              "         [0.00000000e+00, 0.00000000e+00, 0.00000000e+00],\n",
              "         [0.00000000e+00, 0.00000000e+00, 0.00000000e+00]],\n",
              "\n",
              "        [[7.98319328e-03, 1.24449780e-02, 1.74669868e-02],\n",
              "         [1.98079232e-03, 1.15446178e-02, 1.18847539e-02],\n",
              "         [2.50100040e-03, 5.02200880e-03, 1.50060024e-03],\n",
              "         ...,\n",
              "         [0.00000000e+00, 0.00000000e+00, 0.00000000e+00],\n",
              "         [0.00000000e+00, 0.00000000e+00, 0.00000000e+00],\n",
              "         [0.00000000e+00, 0.00000000e+00, 0.00000000e+00]],\n",
              "\n",
              "        ...,\n",
              "\n",
              "        [[2.52100840e-03, 0.00000000e+00, 5.04201681e-03],\n",
              "         [2.52100840e-03, 0.00000000e+00, 3.96158463e-03],\n",
              "         [2.52100840e-03, 0.00000000e+00, 0.00000000e+00],\n",
              "         ...,\n",
              "         [7.48299320e-03, 9.28371349e-03, 6.48259304e-03],\n",
              "         [2.16086435e-03, 4.44177671e-03, 8.10324130e-03],\n",
              "         [7.80312125e-03, 1.05842337e-02, 1.90076030e-02]],\n",
              "\n",
              "        [[1.00840336e-02, 0.00000000e+00, 1.35654262e-02],\n",
              "         [1.00840336e-02, 0.00000000e+00, 6.16246499e-03],\n",
              "         [7.88315326e-03, 0.00000000e+00, 0.00000000e+00],\n",
              "         ...,\n",
              "         [1.62464986e-02, 1.85274110e-02, 2.21888756e-02],\n",
              "         [4.68187275e-03, 6.00240096e-03, 2.07482993e-02],\n",
              "         [0.00000000e+00, 6.00240096e-05, 2.72909164e-02]],\n",
              "\n",
              "        [[1.17647059e-02, 0.00000000e+00, 1.51260504e-02],\n",
              "         [1.17647059e-02, 0.00000000e+00, 6.16246499e-03],\n",
              "         [1.15646259e-02, 0.00000000e+00, 0.00000000e+00],\n",
              "         ...,\n",
              "         [1.28051220e-03, 1.46058423e-03, 1.37855142e-02],\n",
              "         [3.60144058e-04, 4.20168067e-04, 2.47899160e-02],\n",
              "         [0.00000000e+00, 1.01440576e-02, 3.78151261e-02]]],\n",
              "\n",
              "\n",
              "       [[[3.92156863e-03, 0.00000000e+00, 0.00000000e+00],\n",
              "         [3.92156863e-03, 0.00000000e+00, 0.00000000e+00],\n",
              "         [3.92156863e-03, 0.00000000e+00, 0.00000000e+00],\n",
              "         ...,\n",
              "         [2.11884754e-02, 4.68187275e-03, 1.24249700e-02],\n",
              "         [1.41056423e-02, 1.56062425e-03, 2.34093637e-03],\n",
              "         [1.28051220e-02, 7.80312125e-04, 5.20208083e-04]],\n",
              "\n",
              "        [[3.92156863e-03, 0.00000000e+00, 0.00000000e+00],\n",
              "         [3.92156863e-03, 0.00000000e+00, 0.00000000e+00],\n",
              "         [3.92156863e-03, 0.00000000e+00, 0.00000000e+00],\n",
              "         ...,\n",
              "         [8.72348940e-03, 0.00000000e+00, 3.64145658e-03],\n",
              "         [1.02641056e-02, 0.00000000e+00, 1.80072029e-04],\n",
              "         [2.15286114e-02, 8.58343337e-03, 5.72228892e-03]],\n",
              "\n",
              "        [[2.52100840e-03, 0.00000000e+00, 2.80112045e-03],\n",
              "         [2.52100840e-03, 0.00000000e+00, 2.80112045e-03],\n",
              "         [2.52100840e-03, 0.00000000e+00, 2.80112045e-03],\n",
              "         ...,\n",
              "         [9.64385754e-03, 1.80072029e-03, 9.32372949e-03],\n",
              "         [7.56302521e-03, 1.70068027e-03, 6.44257703e-03],\n",
              "         [4.12164866e-03, 1.00040016e-04, 3.00120048e-03]],\n",
              "\n",
              "        ...,\n",
              "\n",
              "        [[2.52100840e-03, 2.52100840e-03, 1.03641457e-02],\n",
              "         [4.68187275e-03, 4.68187275e-03, 1.14445778e-02],\n",
              "         [1.62064826e-02, 1.62064826e-02, 1.80072029e-02],\n",
              "         ...,\n",
              "         [2.52100840e-03, 0.00000000e+00, 7.84313725e-03],\n",
              "         [2.52100840e-03, 0.00000000e+00, 7.84313725e-03],\n",
              "         [2.52100840e-03, 0.00000000e+00, 7.84313725e-03]],\n",
              "\n",
              "        [[9.42376951e-03, 9.42376951e-03, 1.72669068e-02],\n",
              "         [1.56062425e-03, 1.56062425e-03, 7.72308924e-03],\n",
              "         [5.40216086e-03, 5.40216086e-03, 5.40216086e-03],\n",
              "         ...,\n",
              "         [3.92156863e-03, 0.00000000e+00, 7.84313725e-03],\n",
              "         [3.92156863e-03, 0.00000000e+00, 7.84313725e-03],\n",
              "         [3.92156863e-03, 0.00000000e+00, 7.84313725e-03]],\n",
              "\n",
              "        [[1.30052021e-03, 1.30052021e-03, 9.14365746e-03],\n",
              "         [1.04041617e-02, 1.04041617e-02, 1.65666267e-02],\n",
              "         [1.92476991e-02, 1.92476991e-02, 1.92476991e-02],\n",
              "         ...,\n",
              "         [3.92156863e-03, 0.00000000e+00, 7.84313725e-03],\n",
              "         [9.64385754e-03, 0.00000000e+00, 7.84313725e-03],\n",
              "         [1.12044818e-02, 0.00000000e+00, 7.84313725e-03]]],\n",
              "\n",
              "\n",
              "       [[[0.00000000e+00, 1.07042817e-02, 1.46258503e-02],\n",
              "         [1.56062425e-03, 5.70228091e-03, 1.02841136e-02],\n",
              "         [9.88395358e-03, 1.51060424e-02, 1.82072829e-02],\n",
              "         ...,\n",
              "         [0.00000000e+00, 0.00000000e+00, 0.00000000e+00],\n",
              "         [0.00000000e+00, 2.86114446e-03, 0.00000000e+00],\n",
              "         [0.00000000e+00, 3.64145658e-03, 0.00000000e+00]],\n",
              "\n",
              "        [[1.80072029e-04, 3.54141657e-03, 9.86394558e-03],\n",
              "         [3.24129652e-03, 9.76390556e-03, 1.26650660e-02],\n",
              "         [3.78151261e-03, 7.94317727e-03, 4.32172869e-03],\n",
              "         ...,\n",
              "         [0.00000000e+00, 0.00000000e+00, 0.00000000e+00],\n",
              "         [0.00000000e+00, 0.00000000e+00, 0.00000000e+00],\n",
              "         [0.00000000e+00, 0.00000000e+00, 0.00000000e+00]],\n",
              "\n",
              "        [[7.04281713e-03, 8.52340936e-03, 2.36494598e-02],\n",
              "         [9.72388956e-03, 1.27851140e-02, 1.84073629e-02],\n",
              "         [1.13445378e-02, 1.50860344e-02, 1.29651861e-02],\n",
              "         ...,\n",
              "         [0.00000000e+00, 0.00000000e+00, 0.00000000e+00],\n",
              "         [0.00000000e+00, 0.00000000e+00, 0.00000000e+00],\n",
              "         [0.00000000e+00, 0.00000000e+00, 0.00000000e+00]],\n",
              "\n",
              "        ...,\n",
              "\n",
              "        [[0.00000000e+00, 3.92156863e-03, 0.00000000e+00],\n",
              "         [0.00000000e+00, 3.92156863e-03, 0.00000000e+00],\n",
              "         [0.00000000e+00, 3.92156863e-03, 0.00000000e+00],\n",
              "         ...,\n",
              "         [4.86194478e-03, 4.86194478e-03, 9.90396158e-03],\n",
              "         [2.72108844e-03, 1.62064826e-03, 1.98079232e-02],\n",
              "         [9.20368147e-03, 7.80312125e-03, 3.60944378e-02]],\n",
              "\n",
              "        [[0.00000000e+00, 3.92156863e-03, 0.00000000e+00],\n",
              "         [0.00000000e+00, 3.92156863e-03, 0.00000000e+00],\n",
              "         [0.00000000e+00, 3.92156863e-03, 0.00000000e+00],\n",
              "         ...,\n",
              "         [1.62064826e-03, 2.72108844e-03, 6.66266507e-03],\n",
              "         [5.38215286e-03, 7.80312125e-03, 2.48899560e-02],\n",
              "         [4.40176070e-04, 6.60264106e-04, 2.75510204e-02]],\n",
              "\n",
              "        [[0.00000000e+00, 7.30292117e-03, 0.00000000e+00],\n",
              "         [0.00000000e+00, 3.92156863e-03, 0.00000000e+00],\n",
              "         [0.00000000e+00, 3.92156863e-03, 0.00000000e+00],\n",
              "         ...,\n",
              "         [4.68187275e-03, 8.42336935e-03, 1.20648259e-02],\n",
              "         [4.86194478e-03, 8.72348940e-03, 2.58103241e-02],\n",
              "         [3.00120048e-04, 5.80232093e-04, 2.74709884e-02]]],\n",
              "\n",
              "\n",
              "       ...,\n",
              "\n",
              "\n",
              "       [[[0.00000000e+00, 0.00000000e+00, 0.00000000e+00],\n",
              "         [0.00000000e+00, 0.00000000e+00, 0.00000000e+00],\n",
              "         [0.00000000e+00, 0.00000000e+00, 0.00000000e+00],\n",
              "         ...,\n",
              "         [8.96358543e-03, 0.00000000e+00, 0.00000000e+00],\n",
              "         [1.17647059e-02, 0.00000000e+00, 0.00000000e+00],\n",
              "         [1.54061625e-02, 0.00000000e+00, 0.00000000e+00]],\n",
              "\n",
              "        [[0.00000000e+00, 0.00000000e+00, 0.00000000e+00],\n",
              "         [0.00000000e+00, 0.00000000e+00, 0.00000000e+00],\n",
              "         [0.00000000e+00, 0.00000000e+00, 0.00000000e+00],\n",
              "         ...,\n",
              "         [7.88315326e-03, 0.00000000e+00, 0.00000000e+00],\n",
              "         [1.14045618e-02, 0.00000000e+00, 0.00000000e+00],\n",
              "         [1.46258503e-02, 0.00000000e+00, 0.00000000e+00]],\n",
              "\n",
              "        [[0.00000000e+00, 0.00000000e+00, 2.80112045e-03],\n",
              "         [0.00000000e+00, 0.00000000e+00, 2.20088035e-03],\n",
              "         [0.00000000e+00, 0.00000000e+00, 0.00000000e+00],\n",
              "         ...,\n",
              "         [3.42136855e-03, 0.00000000e+00, 5.60224090e-03],\n",
              "         [1.00840336e-02, 0.00000000e+00, 5.60224090e-03],\n",
              "         [1.17647059e-02, 0.00000000e+00, 5.60224090e-03]],\n",
              "\n",
              "        ...,\n",
              "\n",
              "        [[0.00000000e+00, 0.00000000e+00, 0.00000000e+00],\n",
              "         [0.00000000e+00, 0.00000000e+00, 0.00000000e+00],\n",
              "         [0.00000000e+00, 0.00000000e+00, 0.00000000e+00],\n",
              "         ...,\n",
              "         [0.00000000e+00, 0.00000000e+00, 0.00000000e+00],\n",
              "         [0.00000000e+00, 0.00000000e+00, 0.00000000e+00],\n",
              "         [0.00000000e+00, 0.00000000e+00, 0.00000000e+00]],\n",
              "\n",
              "        [[0.00000000e+00, 0.00000000e+00, 0.00000000e+00],\n",
              "         [0.00000000e+00, 0.00000000e+00, 0.00000000e+00],\n",
              "         [0.00000000e+00, 0.00000000e+00, 0.00000000e+00],\n",
              "         ...,\n",
              "         [0.00000000e+00, 0.00000000e+00, 0.00000000e+00],\n",
              "         [0.00000000e+00, 0.00000000e+00, 0.00000000e+00],\n",
              "         [0.00000000e+00, 0.00000000e+00, 0.00000000e+00]],\n",
              "\n",
              "        [[0.00000000e+00, 0.00000000e+00, 0.00000000e+00],\n",
              "         [0.00000000e+00, 0.00000000e+00, 0.00000000e+00],\n",
              "         [0.00000000e+00, 1.30052021e-03, 0.00000000e+00],\n",
              "         ...,\n",
              "         [0.00000000e+00, 0.00000000e+00, 0.00000000e+00],\n",
              "         [0.00000000e+00, 2.86114446e-03, 0.00000000e+00],\n",
              "         [0.00000000e+00, 3.64145658e-03, 0.00000000e+00]]],\n",
              "\n",
              "\n",
              "       [[[0.00000000e+00, 0.00000000e+00, 0.00000000e+00],\n",
              "         [0.00000000e+00, 0.00000000e+00, 0.00000000e+00],\n",
              "         [0.00000000e+00, 0.00000000e+00, 0.00000000e+00],\n",
              "         ...,\n",
              "         [0.00000000e+00, 0.00000000e+00, 0.00000000e+00],\n",
              "         [0.00000000e+00, 0.00000000e+00, 0.00000000e+00],\n",
              "         [0.00000000e+00, 0.00000000e+00, 0.00000000e+00]],\n",
              "\n",
              "        [[0.00000000e+00, 0.00000000e+00, 0.00000000e+00],\n",
              "         [0.00000000e+00, 0.00000000e+00, 0.00000000e+00],\n",
              "         [0.00000000e+00, 0.00000000e+00, 0.00000000e+00],\n",
              "         ...,\n",
              "         [0.00000000e+00, 0.00000000e+00, 0.00000000e+00],\n",
              "         [0.00000000e+00, 0.00000000e+00, 0.00000000e+00],\n",
              "         [0.00000000e+00, 0.00000000e+00, 0.00000000e+00]],\n",
              "\n",
              "        [[0.00000000e+00, 0.00000000e+00, 0.00000000e+00],\n",
              "         [0.00000000e+00, 0.00000000e+00, 0.00000000e+00],\n",
              "         [0.00000000e+00, 0.00000000e+00, 0.00000000e+00],\n",
              "         ...,\n",
              "         [0.00000000e+00, 0.00000000e+00, 0.00000000e+00],\n",
              "         [0.00000000e+00, 0.00000000e+00, 0.00000000e+00],\n",
              "         [0.00000000e+00, 0.00000000e+00, 0.00000000e+00]],\n",
              "\n",
              "        ...,\n",
              "\n",
              "        [[0.00000000e+00, 0.00000000e+00, 0.00000000e+00],\n",
              "         [0.00000000e+00, 0.00000000e+00, 0.00000000e+00],\n",
              "         [0.00000000e+00, 0.00000000e+00, 0.00000000e+00],\n",
              "         ...,\n",
              "         [0.00000000e+00, 0.00000000e+00, 0.00000000e+00],\n",
              "         [0.00000000e+00, 0.00000000e+00, 0.00000000e+00],\n",
              "         [0.00000000e+00, 0.00000000e+00, 0.00000000e+00]],\n",
              "\n",
              "        [[0.00000000e+00, 0.00000000e+00, 0.00000000e+00],\n",
              "         [0.00000000e+00, 0.00000000e+00, 0.00000000e+00],\n",
              "         [0.00000000e+00, 0.00000000e+00, 0.00000000e+00],\n",
              "         ...,\n",
              "         [0.00000000e+00, 0.00000000e+00, 0.00000000e+00],\n",
              "         [0.00000000e+00, 0.00000000e+00, 0.00000000e+00],\n",
              "         [0.00000000e+00, 0.00000000e+00, 0.00000000e+00]],\n",
              "\n",
              "        [[0.00000000e+00, 0.00000000e+00, 0.00000000e+00],\n",
              "         [0.00000000e+00, 0.00000000e+00, 0.00000000e+00],\n",
              "         [0.00000000e+00, 0.00000000e+00, 0.00000000e+00],\n",
              "         ...,\n",
              "         [0.00000000e+00, 0.00000000e+00, 0.00000000e+00],\n",
              "         [0.00000000e+00, 0.00000000e+00, 0.00000000e+00],\n",
              "         [0.00000000e+00, 0.00000000e+00, 0.00000000e+00]]],\n",
              "\n",
              "\n",
              "       [[[0.00000000e+00, 0.00000000e+00, 1.90676271e-02],\n",
              "         [0.00000000e+00, 0.00000000e+00, 1.40056022e-02],\n",
              "         [0.00000000e+00, 1.40056022e-03, 5.04201681e-03],\n",
              "         ...,\n",
              "         [4.04161665e-03, 2.00080032e-04, 8.14325730e-03],\n",
              "         [3.64145658e-03, 2.86114446e-03, 1.02641056e-02],\n",
              "         [3.64145658e-03, 3.64145658e-03, 4.16166467e-03]],\n",
              "\n",
              "        [[0.00000000e+00, 0.00000000e+00, 1.55662265e-02],\n",
              "         [0.00000000e+00, 0.00000000e+00, 1.26850740e-02],\n",
              "         [0.00000000e+00, 1.40056022e-03, 5.04201681e-03],\n",
              "         ...,\n",
              "         [5.30212085e-03, 2.50100040e-03, 1.06642657e-02],\n",
              "         [0.00000000e+00, 0.00000000e+00, 1.32052821e-03],\n",
              "         [7.80312125e-04, 7.80312125e-04, 7.80312125e-04]],\n",
              "\n",
              "        [[0.00000000e+00, 0.00000000e+00, 1.25250100e-02],\n",
              "         [0.00000000e+00, 0.00000000e+00, 7.84313725e-03],\n",
              "         [0.00000000e+00, 1.40056022e-03, 5.04201681e-03],\n",
              "         ...,\n",
              "         [3.20128051e-03, 9.00360144e-04, 3.60144058e-03],\n",
              "         [1.10044018e-03, 1.10044018e-03, 1.10044018e-03],\n",
              "         [6.34253701e-03, 6.34253701e-03, 6.34253701e-03]],\n",
              "\n",
              "        ...,\n",
              "\n",
              "        [[0.00000000e+00, 0.00000000e+00, 0.00000000e+00],\n",
              "         [0.00000000e+00, 0.00000000e+00, 0.00000000e+00],\n",
              "         [0.00000000e+00, 0.00000000e+00, 0.00000000e+00],\n",
              "         ...,\n",
              "         [0.00000000e+00, 3.92156863e-03, 0.00000000e+00],\n",
              "         [0.00000000e+00, 3.92156863e-03, 0.00000000e+00],\n",
              "         [0.00000000e+00, 3.92156863e-03, 0.00000000e+00]],\n",
              "\n",
              "        [[0.00000000e+00, 0.00000000e+00, 0.00000000e+00],\n",
              "         [0.00000000e+00, 0.00000000e+00, 0.00000000e+00],\n",
              "         [0.00000000e+00, 0.00000000e+00, 0.00000000e+00],\n",
              "         ...,\n",
              "         [0.00000000e+00, 3.92156863e-03, 0.00000000e+00],\n",
              "         [0.00000000e+00, 3.92156863e-03, 0.00000000e+00],\n",
              "         [0.00000000e+00, 3.92156863e-03, 0.00000000e+00]],\n",
              "\n",
              "        [[0.00000000e+00, 3.64145658e-03, 0.00000000e+00],\n",
              "         [0.00000000e+00, 3.64145658e-03, 0.00000000e+00],\n",
              "         [0.00000000e+00, 2.34093637e-03, 0.00000000e+00],\n",
              "         ...,\n",
              "         [0.00000000e+00, 3.92156863e-03, 0.00000000e+00],\n",
              "         [0.00000000e+00, 3.92156863e-03, 0.00000000e+00],\n",
              "         [0.00000000e+00, 3.92156863e-03, 0.00000000e+00]]]])"
            ]
          },
          "metadata": {
            "tags": []
          },
          "execution_count": 9
        }
      ]
    },
    {
      "cell_type": "code",
      "metadata": {
        "id": "4OGcB_v0x_Ja",
        "outputId": "01609128-a0eb-4dc2-d9fa-528e6d66bc7f",
        "colab": {
          "base_uri": "https://localhost:8080/",
          "height": 281
        }
      },
      "source": [
        "plt.subplots_adjust(wspace=0.4, hspace=0.6) #plotting\n",
        "\n",
        "index = np.random.randint(0,X_train.shape[0],size=9)\n",
        "\n",
        "for i, idx  in enumerate(index):\n",
        "    plt.subplot(3,3,i+1)\n",
        "    \n",
        "    if y_train[idx] == 0:\n",
        "        label = \"proper\"\n",
        "    else:\n",
        "        label = \"broken\"\n",
        "    plt.title(label)\n",
        "    plt.imshow(X_train[idx])"
      ],
      "execution_count": 10,
      "outputs": [
        {
          "output_type": "display_data",
          "data": {
            "image/png": "[encoded data removed]",
            "text/plain": [
              "<Figure size 432x288 with 9 Axes>"
            ]
          },
          "metadata": {
            "tags": [],
            "needs_background": "light"
          }
        }
      ]
    },
    {
      "cell_type": "code",
      "metadata": {
        "id": "xW8efuFNJ2iL",
        "outputId": "d98a0c74-049a-4dc3-d0e4-3d2a934e00af",
        "colab": {
          "base_uri": "https://localhost:8080/",
          "height": 262
        }
      },
      "source": [
        "#Let's try it for one image first one\n",
        "image = X_train[0]\n",
        "\n",
        "#the original image\n",
        "print(image.shape)\n",
        "plt.figure(figsize=(3,3))\n",
        "plt.imshow(image)\n",
        "plt.title(\"original\")"
      ],
      "execution_count": 11,
      "outputs": [
        {
          "output_type": "stream",
          "text": [
            "(28, 28, 3)\n"
          ],
          "name": "stdout"
        },
        {
          "output_type": "execute_result",
          "data": {
            "text/plain": [
              "Text(0.5, 1.0, 'original')"
            ]
          },
          "metadata": {
            "tags": []
          },
          "execution_count": 11
        },
        {
          "output_type": "display_data",
          "data": {
            "image/png": "[encoded data removed]",
            "text/plain": [
              "<Figure size 216x216 with 1 Axes>"
            ]
          },
          "metadata": {
            "tags": [],
            "needs_background": "light"
          }
        }
      ]
    },
    {
      "cell_type": "code",
      "metadata": {
        "id": "on8SXqeyqn6y",
        "outputId": "041c729b-3f0c-408f-824a-e27d988d65b5",
        "colab": {
          "base_uri": "https://localhost:8080/",
          "height": 262
        }
      },
      "source": [
        "#gray conversion\n",
        "gray = rgb2gray(image)\n",
        "print(gray.shape)\n",
        "plt.figure(figsize=(3,3))\n",
        "plt.imshow(gray, cmap=plt.cm.gray)\n",
        "plt.title(\"gray converted\")"
      ],
      "execution_count": 12,
      "outputs": [
        {
          "output_type": "stream",
          "text": [
            "(28, 28)\n"
          ],
          "name": "stdout"
        },
        {
          "output_type": "execute_result",
          "data": {
            "text/plain": [
              "Text(0.5, 1.0, 'gray converted')"
            ]
          },
          "metadata": {
            "tags": []
          },
          "execution_count": 12
        },
        {
          "output_type": "display_data",
          "data": {
            "image/png": "[encoded data removed]",
            "text/plain": [
              "<Figure size 216x216 with 1 Axes>"
            ]
          },
          "metadata": {
            "tags": [],
            "needs_background": "light"
          }
        }
      ]
    },
    {
      "cell_type": "code",
      "metadata": {
        "id": "KHKRsea1qsEh",
        "outputId": "ded22106-292f-4ea5-a047-b8913562266b",
        "colab": {
          "base_uri": "https://localhost:8080/",
          "height": 229
        }
      },
      "source": [
        "#binary conversion #making clear\n",
        "threshold = threshold_otsu(gray)\n",
        "binary = gray > threshold\n",
        "plt.figure(figsize=(3,3))\n",
        "plt.imshow(binary, cmap=plt.cm.gray)"
      ],
      "execution_count": 13,
      "outputs": [
        {
          "output_type": "execute_result",
          "data": {
            "text/plain": [
              "<matplotlib.image.AxesImage at 0x7fac1d8dd2b0>"
            ]
          },
          "metadata": {
            "tags": []
          },
          "execution_count": 13
        },
        {
          "output_type": "display_data",
          "data": {
            "image/png": "[encoded data removed]",
            "text/plain": [
              "<Figure size 216x216 with 1 Axes>"
            ]
          },
          "metadata": {
            "tags": [],
            "needs_background": "light"
          }
        }
      ]
    },
    {
      "cell_type": "markdown",
      "metadata": {
        "id": "qUaXvXv7m_uk"
      },
      "source": [
        "now that we have a nice binary image, we can isolate the region of rice seed which corresponds to the white region of the image above."
      ]
    },
    {
      "cell_type": "code",
      "metadata": {
        "id": "ErLnR9QmE2B6",
        "outputId": "684987b9-99bc-4ae2-d2ee-a5ed38b82c72",
        "colab": {
          "base_uri": "https://localhost:8080/",
          "height": 69
        }
      },
      "source": [
        "label_im, nb_labels = ndimage.label(binary)\n",
        "regionprops = measure.regionprops(label_im, intensity_image=gray)\n",
        "regionprop = regionprops[0]\n",
        "\n",
        "print(\"area is\",regionprop.area)\n",
        "print(\"major axis length is\", regionprop.major_axis_length)\n",
        "print(\"minor axis length is\", regionprop.minor_axis_length)"
      ],
      "execution_count": 14,
      "outputs": [
        {
          "output_type": "stream",
          "text": [
            "area is 306\n",
            "major axis length is 27.73758294555452\n",
            "minor axis length is 14.150330660313662\n"
          ],
          "name": "stdout"
        }
      ]
    },
    {
      "cell_type": "code",
      "metadata": {
        "id": "Zi12D78UE2B8",
        "outputId": "473ff4f9-8a62-4a1f-8652-6ffed2fcea28",
        "colab": {
          "base_uri": "https://localhost:8080/",
          "height": 35
        }
      },
      "source": [
        "#bundling the above into a function\n",
        "def quantify_area(image):\n",
        "    gray = rgb2gray(image)\n",
        "    threshold = threshold_otsu(gray)\n",
        "    binary = gray > threshold\n",
        "    label_im, nb_labels = ndimage.label(binary)\n",
        "    regionprops = measure.regionprops(label_im, intensity_image=gray)\n",
        "    regionprop = regionprops[0]\n",
        "    area = regionprop.area\n",
        "    return area\n",
        "\n",
        "#test\n",
        "area = quantify_area(image)\n",
        "print(area)"
      ],
      "execution_count": 15,
      "outputs": [
        {
          "output_type": "stream",
          "text": [
            "306\n"
          ],
          "name": "stdout"
        }
      ]
    },
    {
      "cell_type": "code",
      "metadata": {
        "id": "gcb0dZVu1wQB"
      },
      "source": [
        "X_train_area = []\n",
        "for image in X_train:\n",
        "    area = quantify_area(image)\n",
        "    X_train_area.append(area)\n",
        "\n",
        "X_test_area = []\n",
        "for image in X_test:\n",
        "    area = quantify_area(image)\n",
        "    X_test_area.append(area)"
      ],
      "execution_count": 16,
      "outputs": []
    },
    {
      "cell_type": "code",
      "metadata": {
        "id": "kN-OpWAu-G0J",
        "outputId": "d47fb0c0-c5ed-4a31-db31-8769b0e06ccb",
        "colab": {
          "base_uri": "https://localhost:8080/",
          "height": 281
        }
      },
      "source": [
        "#check the calculated data area value of training dataset\n",
        "plt.scatter(range(len(X_train_area)),X_train_area,c=y_train,cmap=\"jet\")\n",
        "plt.xlabel(\"rice seed images\")\n",
        "plt.ylabel(\"area (px)\")\n",
        "plt.show()"
      ],
      "execution_count": 17,
      "outputs": [
        {
          "output_type": "display_data",
          "data": {
            "image/png": "[encoded data removed]",
            "text/plain": [
              "<Figure size 432x288 with 1 Axes>"
            ]
          },
          "metadata": {
            "tags": [],
            "needs_background": "light"
          }
        }
      ]
    },
    {
      "cell_type": "code",
      "metadata": {
        "id": "eL5ADdJHFWCz",
        "outputId": "c36ae7f9-891e-443a-83c7-2f0d4e6c9558",
        "colab": {
          "base_uri": "https://localhost:8080/",
          "height": 453
        }
      },
      "source": [
        "#define an area threshold that can seperate the two classes\n",
        "#must change from the default value or it won't seperate nicely.\n",
        "#run this code once and try the suitable value that can seperate blue and red with the horizontal lines\n",
        "area_threshold = 256\n",
        "\n",
        "\n",
        "#classify whether the image is a proper seed or a broken seed according to the area_threshold value\n",
        "train_y_pred = []\n",
        "for area in X_train_area:\n",
        "    if area > area_threshold:\n",
        "        train_y_pred.append(0)\n",
        "    else:\n",
        "        train_y_pred.append(1)\n",
        "        \n",
        "\n",
        "#plot scatter with threshold line\n",
        "plt.figure(figsize=(5,3))\n",
        "plt.scatter(range(len(X_train_area)),X_train_area,c=y_train,cmap=plt.cm.coolwarm)\n",
        "plt.axhline(y=area_threshold)\n",
        "plt.title(\"blue:proper seed, red: broken seed\")\n",
        "plt.show()\n",
        "\n",
        "#calculate confusion matrix\n",
        "cnf = confusion_matrix(y_train, train_y_pred)\n",
        "\n",
        "#confusion matrix in figure\n",
        "plt.figure(figsize=(3,3))\n",
        "plot_confusion_matrix(cnf, classes=[\"proper\",\"broken\"])\n",
        "\n",
        "plt.show()"
      ],
      "execution_count": 18,
      "outputs": [
        {
          "output_type": "display_data",
          "data": {
            "image/png": "[encoded data removed]",
            "text/plain": [
              "<Figure size 360x216 with 1 Axes>"
            ]
          },
          "metadata": {
            "tags": [],
            "needs_background": "light"
          }
        },
        {
          "output_type": "stream",
          "text": [
            "Confusion matrix, without normalization\n"
          ],
          "name": "stdout"
        },
        {
          "output_type": "display_data",
          "data": {
            "image/png": "[encoded data removed]",
            "text/plain": [
              "<Figure size 216x216 with 1 Axes>"
            ]
          },
          "metadata": {
            "tags": [],
            "needs_background": "light"
          }
        }
      ]
    },
    {
      "cell_type": "code",
      "metadata": {
        "id": "KxXqorE_JARE",
        "outputId": "71f0b934-a348-4aaf-fc1a-6f5935294648",
        "colab": {
          "base_uri": "https://localhost:8080/",
          "height": 437
        }
      },
      "source": [
        "#evaluate it with the test dataset\n",
        "test_y_pred = []\n",
        "for area in X_test_area:\n",
        "    if area > area_threshold:\n",
        "        test_y_pred.append(0)\n",
        "    else:\n",
        "        test_y_pred.append(1)\n",
        "        \n",
        "#plot scatter with threshold line\n",
        "plt.figure(figsize=(5,3))\n",
        "plt.scatter(range(len(X_test_area)),X_test_area,c=y_test,cmap=plt.cm.coolwarm)\n",
        "plt.axhline(y=area_threshold)\n",
        "#plt.plot([100,0],[100,350],'k-',lw=2)\n",
        "plt.show()\n",
        "\n",
        "#calculate confusion matrix\n",
        "cnf = confusion_matrix(y_test, test_y_pred)\n",
        "\n",
        "#confusion matrix in figure\n",
        "plt.figure(figsize=(3,3))\n",
        "plot_confusion_matrix(cnf, classes=[\"proper\",\"broken\"])\n",
        "plt.show()"
      ],
      "execution_count": 19,
      "outputs": [
        {
          "output_type": "display_data",
          "data": {
            "image/png": "[encoded data removed]",
            "text/plain": [
              "<Figure size 360x216 with 1 Axes>"
            ]
          },
          "metadata": {
            "tags": [],
            "needs_background": "light"
          }
        },
        {
          "output_type": "stream",
          "text": [
            "Confusion matrix, without normalization\n"
          ],
          "name": "stdout"
        },
        {
          "output_type": "display_data",
          "data": {
            "image/png": "[encoded data removed]",
            "text/plain": [
              "<Figure size 216x216 with 1 Axes>"
            ]
          },
          "metadata": {
            "tags": [],
            "needs_background": "light"
          }
        }
      ]
    },
    {
      "cell_type": "code",
      "metadata": {
        "id": "sJqsUKwkRR2V",
        "outputId": "cdb44a0e-377e-49bf-f2ec-463d5bcd4aaa",
        "colab": {
          "base_uri": "https://localhost:8080/",
          "height": 300
        }
      },
      "source": [
        "#build a classifier\n",
        "\n",
        "def manual_classifier(image,area_threshold):\n",
        "    gray = rgb2gray(image)\n",
        "    threshold = threshold_otsu(gray)\n",
        "    binary = gray > threshold\n",
        "    label_im, nb_labels = ndimage.label(binary)\n",
        "    regionprops = measure.regionprops(label_im, intensity_image=gray)\n",
        "    regionprop = regionprops[0]\n",
        "    area = regionprop.area\n",
        "    if area > area_threshold:\n",
        "        return 0\n",
        "    else:\n",
        "        return 1\n",
        "\n",
        "# get a image from test dataset #value must be lower than the size of the test dataset(20-1)\n",
        "n = 10\n",
        "image = X_test[n]\n",
        "label = y_test[n]\n",
        "area_threshold = 350\n",
        "prediction = manual_classifier(image,area_threshold)\n",
        "\n",
        "plt.imshow(image)\n",
        "print(\"correct label is: \",label)\n",
        "print(\"predicted label is: \",prediction)"
      ],
      "execution_count": 20,
      "outputs": [
        {
          "output_type": "stream",
          "text": [
            "correct label is:  1\n",
            "predicted label is:  1\n"
          ],
          "name": "stdout"
        },
        {
          "output_type": "display_data",
          "data": {
            "image/png": "[encoded data removed]",
            "text/plain": [
              "<Figure size 432x288 with 1 Axes>"
            ]
          },
          "metadata": {
            "tags": [],
            "needs_background": "light"
          }
        }
      ]
    },
    {
      "cell_type": "code",
      "metadata": {
        "id": "1MT0jiIjR1Eo"
      },
      "source": [
        ""
      ],
      "execution_count": null,
      "outputs": []
    },
    {
      "cell_type": "code",
      "metadata": {
        "id": "D97DaKasqjH5"
      },
      "source": [
        ""
      ],
      "execution_count": null,
      "outputs": []
    },
    {
      "cell_type": "code",
      "metadata": {
        "id": "MOa5Ih3F2xuT"
      },
      "source": [
        ""
      ],
      "execution_count": null,
      "outputs": []
    }
  ]
}